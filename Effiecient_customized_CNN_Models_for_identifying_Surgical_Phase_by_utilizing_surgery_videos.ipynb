{
  "nbformat": 4,
  "nbformat_minor": 0,
  "metadata": {
    "colab": {
      "provenance": [],
      "machine_shape": "hm"
    },
    "kernelspec": {
      "display_name": "Python 3",
      "language": "python",
      "name": "python3"
    },
    "language_info": {
      "codemirror_mode": {
        "name": "ipython",
        "version": 3
      },
      "file_extension": ".py",
      "mimetype": "text/x-python",
      "name": "python",
      "nbconvert_exporter": "python",
      "pygments_lexer": "ipython3",
      "version": "3.8.3"
    },
    "accelerator": "GPU"
  },
  "cells": [
    {
      "cell_type": "code",
      "metadata": {
        "id": "6fKiI1CRz3YE"
      },
      "source": [
        "import cv2\n",
        "import math\n",
        "import matplotlib.pyplot as plt\n",
        "%matplotlib inline\n",
        "import pandas as pd\n",
        "import numpy as np\n",
        "from keras.preprocessing import image\n",
        "import numpy as np\n",
        "from keras.utils import np_utils\n",
        "from skimage.transform import resize\n",
        "from PIL import Image\n",
        "import re\n",
        "import os\n",
        "import random\n",
        "import shutil\n",
        "#will chnage this line if error occurs\n",
        "from tensorflow import keras\n",
        "from keras.models import load_model"
      ],
      "execution_count": null,
      "outputs": []
    },
    {
      "cell_type": "code",
      "metadata": {
        "colab": {
          "base_uri": "https://localhost:8080/"
        },
        "id": "Esz0Z_Jr1Glb",
        "outputId": "715d47bb-5a04-425f-c2be-18e8cdc034c2"
      },
      "source": [
        "from google.colab import drive\n",
        "drive.mount('/content/drive')"
      ],
      "execution_count": null,
      "outputs": [
        {
          "output_type": "stream",
          "text": [
            "Drive already mounted at /content/drive; to attempt to forcibly remount, call drive.mount(\"/content/drive\", force_remount=True).\n"
          ],
          "name": "stdout"
        }
      ]
    },
    {
      "cell_type": "markdown",
      "metadata": {
        "id": "loTbCyQcz3YL"
      },
      "source": [
        "# Loading video names in a column and labels:"
      ]
    },
    {
      "cell_type": "code",
      "metadata": {
        "colab": {
          "base_uri": "https://localhost:8080/",
          "height": 136
        },
        "id": "umUUZ_Ww4RS1",
        "outputId": "c5130fe9-222a-42fb-c4af-19d54ab23bb7"
      },
      "source": [
        "# Loading video names in a column and labels:\n",
        "\n",
        "#tanin dir path C:/Users/user/Desktop/ThesisResearch\n",
        "os.getcwd()\n",
        "path=\"/content/drive/My Drive/\"\n",
        "video_directory=os.path.join(path,\"cataractData2\") \n",
        "videos=os.listdir(video_directory)\n",
        "label=[]\n",
        "for i in videos:\n",
        "    if \"cap\" in i:\n",
        "        label.append(0)\n",
        "    elif \"phac\" in i:\n",
        "        label.append(1)\n",
        "    else:\n",
        "        label.append(\"file_name_incorrect\")\n",
        "       \n",
        "videos=pd.DataFrame(videos,label).reset_index()\n",
        "videos.columns=[\"labels\",\"video_name\"]\n",
        "\n",
        "videos.groupby('labels').count()"
      ],
      "execution_count": null,
      "outputs": [
        {
          "output_type": "execute_result",
          "data": {
            "text/html": [
              "<div>\n",
              "<style scoped>\n",
              "    .dataframe tbody tr th:only-of-type {\n",
              "        vertical-align: middle;\n",
              "    }\n",
              "\n",
              "    .dataframe tbody tr th {\n",
              "        vertical-align: top;\n",
              "    }\n",
              "\n",
              "    .dataframe thead th {\n",
              "        text-align: right;\n",
              "    }\n",
              "</style>\n",
              "<table border=\"1\" class=\"dataframe\">\n",
              "  <thead>\n",
              "    <tr style=\"text-align: right;\">\n",
              "      <th></th>\n",
              "      <th>video_name</th>\n",
              "    </tr>\n",
              "    <tr>\n",
              "      <th>labels</th>\n",
              "      <th></th>\n",
              "    </tr>\n",
              "  </thead>\n",
              "  <tbody>\n",
              "    <tr>\n",
              "      <th>0</th>\n",
              "      <td>30</td>\n",
              "    </tr>\n",
              "    <tr>\n",
              "      <th>1</th>\n",
              "      <td>30</td>\n",
              "    </tr>\n",
              "  </tbody>\n",
              "</table>\n",
              "</div>"
            ],
            "text/plain": [
              "        video_name\n",
              "labels            \n",
              "0               30\n",
              "1               30"
            ]
          },
          "metadata": {
            "tags": []
          },
          "execution_count": 3
        }
      ]
    },
    {
      "cell_type": "markdown",
      "metadata": {
        "id": "6oKZ_0X4nbcI"
      },
      "source": []
    },
    {
      "cell_type": "markdown",
      "metadata": {
        "id": "2ryTZ2oNz3YM"
      },
      "source": [
        "# Test_Train_Split:\n",
        " \n"
      ]
    },
    {
      "cell_type": "code",
      "metadata": {
        "id": "ICXfvjLx2Ezq"
      },
      "source": [
        "# Splitting the videos into Train and Test Videos:\n",
        "cap=videos.loc[videos[\"labels\"]==0,]\n",
        "phac=videos.loc[videos[\"labels\"]==1,]\n",
        "\n",
        "cap_range=np.arange(len(cap))\n",
        "phac_range=np.arange(len(phac))\n",
        "np.random.seed(14)\n",
        "np.random.shuffle(cap_range)\n",
        "np.random.shuffle(phac_range)\n",
        "\n",
        "phac=phac.iloc[phac_range,]\n",
        "cap=cap.iloc[cap_range,]\n",
        "\n",
        "train_phac=phac.iloc[:25,]\n",
        "train_cap=cap.iloc[:25,]\n",
        "test_phac=phac.iloc[25:,]\n",
        "test_cap=cap.iloc[25:,]\n",
        "\n",
        "train_set=train_phac.append(train_cap)\n",
        "test_set=test_phac.append(test_cap)\n",
        "\n",
        "train_set=train_set.reset_index().drop(\"index\",axis=1)\n",
        "test_set=test_set.reset_index().drop(\"index\",axis=1)"
      ],
      "execution_count": null,
      "outputs": []
    },
    {
      "cell_type": "code",
      "metadata": {
        "id": "HqVKK29Qz3YQ",
        "colab": {
          "base_uri": "https://localhost:8080/"
        },
        "outputId": "5628f145-6783-45a2-f529-79b887bd08bc"
      },
      "source": [
        "print(train_set.groupby('labels').count())\n",
        "print(test_set.groupby('labels').count())"
      ],
      "execution_count": null,
      "outputs": [
        {
          "output_type": "stream",
          "text": [
            "        video_name\n",
            "labels            \n",
            "0               25\n",
            "1               25\n",
            "        video_name\n",
            "labels            \n",
            "0                5\n",
            "1                5\n"
          ],
          "name": "stdout"
        }
      ]
    },
    {
      "cell_type": "markdown",
      "metadata": {
        "id": "jAdIeTuQ2Khs"
      },
      "source": []
    },
    {
      "cell_type": "markdown",
      "metadata": {
        "id": "t2GXnR7uz3YT"
      },
      "source": [
        "# Frame Extraction:\n",
        "Storing Frames from each training video and test data samples and storing all frames from each videos in a folder named as the sample video name. "
      ]
    },
    {
      "cell_type": "code",
      "metadata": {
        "id": "bFyljkigz3YT",
        "colab": {
          "base_uri": "https://localhost:8080/"
        },
        "outputId": "8c0e51f9-4162-4cef-ec1d-0d7690537649"
      },
      "source": [
        "CataractVideos_dir_path=os.path.join(path,'CataractVideos')\n",
        "train_videos_dir=os.path.join(CataractVideos_dir_path,\"Train_Videos\")\n",
        "test_videos_dir=os.path.join(CataractVideos_dir_path,\"Test_Videos\")\n",
        "try:\n",
        "    os.mkdir(CataractVideos_dir_path)\n",
        "except FileExistsError as ae:\n",
        "    print(\"Folder Already Created\")\n",
        "\n",
        "try:\n",
        "    os.mkdir(train_videos_dir)\n",
        "except FileExistsError as ae:\n",
        "    print(\"Folder Already Created\")\n",
        "    \n",
        "try:\n",
        "    os.mkdir(test_videos_dir)\n",
        "except FileExistsError as ae:\n",
        "    print(\"Folder Already Created\")"
      ],
      "execution_count": null,
      "outputs": [
        {
          "output_type": "stream",
          "text": [
            "Folder Already Created\n",
            "Folder Already Created\n",
            "Folder Already Created\n"
          ],
          "name": "stdout"
        }
      ]
    },
    {
      "cell_type": "markdown",
      "metadata": {
        "id": "2ipWlcdo3xOB"
      },
      "source": [
        "### folder "
      ]
    },
    {
      "cell_type": "code",
      "metadata": {
        "id": "2rpUyVvc3u9j"
      },
      "source": [
        "CataractVideos_dir_path=os.path.join(path,'CataractVideos')\n",
        "train_videos_dir=os.path.join(CataractVideos_dir_path,\"Train_Videos\")\n",
        "test_videos_dir=os.path.join(CataractVideos_dir_path,\"Test_Videos\")\n",
        "try:\n",
        "    os.mkdir(CataractVideos_dir_path)\n",
        "except FileExistsError as ae:\n",
        "    print(\"Folder Already Created\")\n",
        "\n",
        "try:\n",
        "    os.mkdir(train_videos_dir)\n",
        "except FileExistsError as ae:\n",
        "    print(\"Folder Already Created\")\n",
        "    \n",
        "try:\n",
        "    os.mkdir(test_videos_dir)\n",
        "except FileExistsError as ae:\n",
        "    print(\"Folder Already Created\")"
      ],
      "execution_count": null,
      "outputs": []
    },
    {
      "cell_type": "markdown",
      "metadata": {
        "id": "7PDjJJaY3v_X"
      },
      "source": []
    },
    {
      "cell_type": "code",
      "metadata": {
        "colab": {
          "base_uri": "https://localhost:8080/"
        },
        "id": "mGhZSxcN4Nws",
        "outputId": "3881476e-4e89-45a6-d606-63931ea08a59"
      },
      "source": [
        "\n",
        "CataractVideos_path=os.path.join(path,\"CataractVideos\")\n",
        "def video_capturing_function(dataset,folder_name):\n",
        "    for i in np.arange(len(dataset)):\n",
        "        video_name=dataset.video_name[i]\n",
        "        video_read_path=os.path.join(video_directory,video_name)\n",
        "        cap=cv2.VideoCapture(video_read_path)\n",
        "        try:\n",
        "            os.mkdir(os.path.join(os.path.join(CataractVideos_path,folder_name),\n",
        "                                  video_name.split(\".\")[0]))\n",
        "        except:\n",
        "            print(\"File Already Created\")\n",
        "        \n",
        "        train_write_file=os.path.join(os.path.join(CataractVideos_path,folder_name),\n",
        "                                  video_name.split(\".\")[0])\n",
        "        cap.set(cv2.CAP_PROP_FPS, 20)\n",
        "        frameRate=cap.get(5)\n",
        "        x=1\n",
        "        count=0\n",
        "        while(cap.isOpened()):\n",
        "            frameId = cap.get(1) #current frame number\n",
        "            ret, frame = cap.read()\n",
        "            if (ret != True):\n",
        "                break\n",
        "            if (frameId % math.floor(frameRate) == 0):\n",
        "                filename =\"frame%d.jpg\" % count;count+=1\n",
        "                frame_grey=cv2.cvtColor(frame, cv2.COLOR_BGR2GRAY)\n",
        "                cv2.imwrite(os.path.join(train_write_file,filename), frame_grey)\n",
        "        cap.release()\n",
        "    return print(\"All frames written in the: \"+folder_name+\" Folder\")\n",
        "    \n",
        "video_capturing_function(train_set,\"Train_Videos\")\n",
        "video_capturing_function(test_set,\"Test_Videos\")"
      ],
      "execution_count": null,
      "outputs": [
        {
          "output_type": "stream",
          "text": [
            "All frames written in the: Train_Videos Folder\n",
            "All frames written in the: Test_Videos Folder\n"
          ],
          "name": "stdout"
        }
      ]
    },
    {
      "cell_type": "markdown",
      "metadata": {
        "id": "StbP_eje4Odt"
      },
      "source": []
    },
    {
      "cell_type": "code",
      "metadata": {
        "id": "U1FaYxhg2zXb"
      },
      "source": [
        "# Code to see how many frames are captured for each video:\n",
        "##############################\n",
        "train_dir_path=\"/content/drive/My Drive/CataractVideos/Train_Videos\"\n",
        "test_dir_path=\"/content/drive/My Drive/CataractVideos/Test_Videos\"\n",
        "\n",
        "vid_file_name=train_set.video_name[0].split('.')[0]\n",
        "\n",
        "train_frames=[]\n",
        "for i in np.arange(len(train_set.video_name)):\n",
        "    vid_file_name=train_set.video_name[i].split('.')[0]\n",
        "    train_frames.append(len(os.listdir(os.path.join(train_dir_path,vid_file_name))))\n",
        "\n",
        "test_frames=[]\n",
        "for i in np.arange(len(test_set.video_name)):\n",
        "    vid_file_name=test_set.video_name[i].split('.')[0]\n",
        "    test_frames.append(len(os.listdir(os.path.join(test_dir_path,vid_file_name))))"
      ],
      "execution_count": null,
      "outputs": []
    },
    {
      "cell_type": "markdown",
      "metadata": {
        "id": "0PKkn9sbz3Ye"
      },
      "source": [
        "# Generatig extra frames where that there are less than 15 frames in any video:\n",
        "As frames are already generated so this cell will show \"Frame Generation done\""
      ]
    },
    {
      "cell_type": "code",
      "metadata": {
        "colab": {
          "base_uri": "https://localhost:8080/"
        },
        "id": "2_koPhvsz3Ye",
        "outputId": "44f16079-e1fb-46dd-f890-1c923334f81a"
      },
      "source": [
        "def frame_generating_function(dataset,dir_path):\n",
        "    for i in np.arange(len(dataset.video_name)):\n",
        "        vid_namu=dataset.video_name[i]\n",
        "        vid_path=os.path.join(dir_path,vid_namu.split(\".\")[0])\n",
        "        len_frame=len(os.listdir(vid_path))\n",
        "        j=15-len(os.listdir(vid_path))\n",
        "        if j>0:\n",
        "            list_frames=os.listdir(vid_path)\n",
        "            c=0\n",
        "            for k in np.arange(j):\n",
        "                list_frames=os.listdir(vid_path)\n",
        "                frame=os.path.join(vid_path,list_frames[c])\n",
        "                countu=k+len_frame\n",
        "                new_frame=\"frame%d.jpg\" % countu\n",
        "                shutil.copy2(frame,os.path.join(vid_path,new_frame))\n",
        "                c+=1\n",
        "        else:\n",
        "            pass\n",
        "    return print(\"Frame Generation Done!\")\n",
        "    \n",
        "frame_generating_function(train_set,train_dir_path)\n",
        "frame_generating_function(test_set,test_dir_path)"
      ],
      "execution_count": null,
      "outputs": [
        {
          "output_type": "stream",
          "text": [
            "Frame Generation Done!\n",
            "Frame Generation Done!\n"
          ],
          "name": "stdout"
        }
      ]
    },
    {
      "cell_type": "markdown",
      "metadata": {
        "id": "JeSw8-lXz3Yh"
      },
      "source": [
        "# Generating Validation Set:"
      ]
    },
    {
      "cell_type": "code",
      "metadata": {
        "id": "rXWIaoYLz3Yh"
      },
      "source": [
        "# Train and Validation Splitting:\n",
        "label_1_dat=train_set.loc[train_set[\"labels\"]==1,]\n",
        "label_0_dat=train_set.loc[train_set[\"labels\"]==0,]\n",
        "\n",
        "train_len_label1=math.floor(len(label_1_dat)*0.80)\n",
        "train_len_label0=math.floor(len(label_0_dat)*0.80)\n",
        "\n",
        "train_dat_label1=label_1_dat.iloc[:train_len_label1,]\n",
        "train_dat_label0=label_0_dat.iloc[:train_len_label0,]\n",
        "\n",
        "validation_dat_label1=label_1_dat.iloc[train_len_label1:,]\n",
        "validation_dat_label0=label_0_dat.iloc[train_len_label0:,]\n",
        "\n",
        "train_vid_dat=train_dat_label1.append(train_dat_label0,ignore_index=True)\n",
        "validation_vid_dat=validation_dat_label1.append(validation_dat_label0,ignore_index=True)"
      ],
      "execution_count": null,
      "outputs": []
    },
    {
      "cell_type": "markdown",
      "metadata": {
        "id": "dj21xG43z3Yk"
      },
      "source": [
        "Taking first 15 frames from each sample video in dataset and converting images to greyscale, resizing each image to 300/300 and removing 2 extra channels."
      ]
    },
    {
      "cell_type": "code",
      "metadata": {
        "id": "1DEs_3iTz3Yl"
      },
      "source": [
        "# Data load function for 15frames:\n",
        "\n",
        "def data_load_function_10frames(dataset,directory):\n",
        "    frames=[]\n",
        "    for i in np.arange(len(dataset)):\n",
        "        vid_name=dataset.video_name[i].split(\".\")[0]\n",
        "        vid_dir_path=os.path.join(directory,vid_name)\n",
        "        frames_to_select=[]\n",
        "        #taking 15 instead 10\n",
        "        for l in np.arange(0,15):\n",
        "            frames_to_select.append('frame%d.jpg' % l)\n",
        "        vid_data=[]\n",
        "        for frame in frames_to_select:\n",
        "            image=Image.open(os.path.join(vid_dir_path,frame))\n",
        "            image=image.resize((300, 300), Image.ANTIALIAS) \n",
        "            datu=np.asarray(image)\n",
        "            normu_dat=datu/255\n",
        "            vid_data.append(normu_dat)\n",
        "        vid_data=np.array(vid_data)\n",
        "        frames.append(vid_data)\n",
        "    return np.array(frames)"
      ],
      "execution_count": null,
      "outputs": []
    },
    {
      "cell_type": "code",
      "metadata": {
        "id": "eOvX5Tgjz3Yn"
      },
      "source": [
        "# 15 frames train,validation and test data:\n",
        "\n",
        "test_dataset_new=data_load_function_10frames(test_set,test_dir_path)\n",
        "train_dataset_new=data_load_function_10frames(train_vid_dat,train_dir_path)\n",
        "validation_dataset_new=data_load_function_10frames(validation_vid_dat,train_dir_path)\n",
        "\n",
        "test_labels=np.array(test_set.labels)\n",
        "train_labels=np.array(train_vid_dat.labels)\n",
        "validation_labels=np.array(validation_vid_dat.labels)"
      ],
      "execution_count": null,
      "outputs": []
    },
    {
      "cell_type": "code",
      "metadata": {
        "id": "S0WUwaSq5J-K"
      },
      "source": [
        "#Reshaping tensors to confirm with the model we are going to train:\n",
        "test_dataset_new=test_dataset_new.reshape((30,15,300,300,1))\n",
        "train_dataset_new=train_dataset_new.reshape((215,15,300,300,1))\n",
        "validation_dataset_new=validation_dataset_new.reshape((55,15,300,300,1))"
      ],
      "execution_count": null,
      "outputs": []
    },
    {
      "cell_type": "markdown",
      "metadata": {
        "id": "6_czEXAQz3Yv"
      },
      "source": [
        "# CNN and LSTM Architecture:\n"
      ]
    },
    {
      "cell_type": "code",
      "metadata": {
        "colab": {
          "base_uri": "https://localhost:8080/"
        },
        "id": "l88AALPxz3Yw",
        "outputId": "9b019f70-b963-4244-f448-b822e4293bbf"
      },
      "source": [
        "baseline_predictions=np.ones(len(test_labels))\n",
        "test_accuracy_naive=np.where(baseline_predictions==test_labels)[0].shape[0]/len(test_labels)\n",
        "test_accuracy_naive"
      ],
      "execution_count": null,
      "outputs": [
        {
          "output_type": "execute_result",
          "data": {
            "text/plain": [
              "0.625"
            ]
          },
          "metadata": {
            "tags": []
          },
          "execution_count": 36
        }
      ]
    },
    {
      "cell_type": "markdown",
      "metadata": {
        "id": "mDfo-RPRXoEV"
      },
      "source": [
        "# 2D CNN Model 1"
      ]
    },
    {
      "cell_type": "markdown",
      "metadata": {
        "id": "H-SdpxEM3adu"
      },
      "source": []
    },
    {
      "cell_type": "markdown",
      "metadata": {
        "id": "7uqWkSw4z3ZF"
      },
      "source": [
        "## Model 1: CNN and LSTM "
      ]
    },
    {
      "cell_type": "code",
      "metadata": {
        "colab": {
          "base_uri": "https://localhost:8080/"
        },
        "id": "vK6R3ae0z3ZF",
        "outputId": "ca798ecb-b5d1-4e2a-aa98-b34b6bbc204d"
      },
      "source": [
        "from keras.layers import TimeDistributed, Conv2D, Dense, MaxPooling2D, Flatten, LSTM, Dropout, BatchNormalization\n",
        "from keras import models\n",
        "model_cnlst = models.Sequential()\n",
        "model_cnlst.add(TimeDistributed(Conv2D(128, (3, 3), strides=(1,1),activation='relu'),input_shape=(10, 300, 300, 1)))\n",
        "model_cnlst.add(TimeDistributed(Conv2D(64, (3, 3), strides=(1,1),activation='relu')))\n",
        "model_cnlst.add(TimeDistributed(MaxPooling2D(2,2)))\n",
        "model_cnlst.add(TimeDistributed(Conv2D(64, (3, 3), strides=(1,1),activation='relu')))\n",
        "model_cnlst.add(TimeDistributed(Conv2D(32, (3, 3), strides=(1,1),activation='relu')))\n",
        "model_cnlst.add(TimeDistributed(BatchNormalization()))\n",
        "model_cnlst.add(TimeDistributed(MaxPooling2D(2,2)))\n",
        "\n",
        "model_cnlst.add(TimeDistributed(Conv2D(64, (3, 3), strides=(1,1),activation='relu')))\n",
        "model_cnlst.add(TimeDistributed(Conv2D(32, (3, 3), strides=(1,1),activation='relu')))\n",
        "model_cnlst.add(TimeDistributed(MaxPooling2D(2,2)))\n",
        "model_cnlst.add(TimeDistributed(Conv2D(64, (3, 3), strides=(1,1),activation='relu')))\n",
        "model_cnlst.add(TimeDistributed(Conv2D(32, (3, 3), strides=(1,1),activation='relu')))\n",
        "model_cnlst.add(TimeDistributed(MaxPooling2D(2,2)))\n",
        "model_cnlst.add(TimeDistributed(BatchNormalization()))\n",
        "model_cnlst.add(TimeDistributed(Flatten()))\n",
        "model_cnlst.add(Dropout(0.2))\n",
        "\n",
        "model_cnlst.add(LSTM(64,return_sequences=False,dropout=0.2)) # used 32 units\n",
        "model_cnlst.add(Dense(128,activation='relu'))\n",
        "model_cnlst.add(BatchNormalization())\n",
        "model_cnlst.add(Dense(64,activation='relu'))\n",
        "model_cnlst.add(Dense(32,activation='relu'))\n",
        "model_cnlst.add(Dropout(0.2))\n",
        "model_cnlst.add(Dense(1, activation='sigmoid'))\n",
        "model_cnlst.summary()"
      ],
      "execution_count": null,
      "outputs": [
        {
          "output_type": "stream",
          "text": [
            "Model: \"sequential_1\"\n",
            "_________________________________________________________________\n",
            "Layer (type)                 Output Shape              Param #   \n",
            "=================================================================\n",
            "time_distributed (TimeDistri (None, 10, 298, 298, 128) 1280      \n",
            "_________________________________________________________________\n",
            "time_distributed_1 (TimeDist (None, 10, 296, 296, 64)  73792     \n",
            "_________________________________________________________________\n",
            "time_distributed_2 (TimeDist (None, 10, 148, 148, 64)  0         \n",
            "_________________________________________________________________\n",
            "time_distributed_3 (TimeDist (None, 10, 146, 146, 64)  36928     \n",
            "_________________________________________________________________\n",
            "time_distributed_4 (TimeDist (None, 10, 144, 144, 32)  18464     \n",
            "_________________________________________________________________\n",
            "time_distributed_5 (TimeDist (None, 10, 144, 144, 32)  128       \n",
            "_________________________________________________________________\n",
            "time_distributed_6 (TimeDist (None, 10, 72, 72, 32)    0         \n",
            "_________________________________________________________________\n",
            "time_distributed_7 (TimeDist (None, 10, 70, 70, 64)    18496     \n",
            "_________________________________________________________________\n",
            "time_distributed_8 (TimeDist (None, 10, 68, 68, 32)    18464     \n",
            "_________________________________________________________________\n",
            "time_distributed_9 (TimeDist (None, 10, 34, 34, 32)    0         \n",
            "_________________________________________________________________\n",
            "time_distributed_10 (TimeDis (None, 10, 32, 32, 64)    18496     \n",
            "_________________________________________________________________\n",
            "time_distributed_11 (TimeDis (None, 10, 30, 30, 32)    18464     \n",
            "_________________________________________________________________\n",
            "time_distributed_12 (TimeDis (None, 10, 15, 15, 32)    0         \n",
            "_________________________________________________________________\n",
            "time_distributed_13 (TimeDis (None, 10, 15, 15, 32)    128       \n",
            "_________________________________________________________________\n",
            "time_distributed_14 (TimeDis (None, 10, 7200)          0         \n",
            "_________________________________________________________________\n",
            "dropout_1 (Dropout)          (None, 10, 7200)          0         \n",
            "_________________________________________________________________\n",
            "lstm (LSTM)                  (None, 64)                1859840   \n",
            "_________________________________________________________________\n",
            "dense_5 (Dense)              (None, 128)               8320      \n",
            "_________________________________________________________________\n",
            "batch_normalization_3 (Batch (None, 128)               512       \n",
            "_________________________________________________________________\n",
            "dense_6 (Dense)              (None, 64)                8256      \n",
            "_________________________________________________________________\n",
            "dense_7 (Dense)              (None, 32)                2080      \n",
            "_________________________________________________________________\n",
            "dropout_2 (Dropout)          (None, 32)                0         \n",
            "_________________________________________________________________\n",
            "dense_8 (Dense)              (None, 1)                 33        \n",
            "=================================================================\n",
            "Total params: 2,083,681\n",
            "Trainable params: 2,083,297\n",
            "Non-trainable params: 384\n",
            "_________________________________________________________________\n"
          ],
          "name": "stdout"
        }
      ]
    },
    {
      "cell_type": "markdown",
      "metadata": {
        "id": "tcZmbHJvz3ZI"
      },
      "source": [
        "Model Compilation and Defining Keras Callbacks:"
      ]
    },
    {
      "cell_type": "code",
      "metadata": {
        "id": "AqgHV-TCZGAT"
      },
      "source": [
        "# 'cnn_lstm_model_new3.h5'\n",
        "from tensorflow import keras\n",
        "from tensorflow.python.keras.callbacks import EarlyStopping, ModelCheckpoint\n",
        "callbacks_list_cnlst=[keras.callbacks.EarlyStopping(\n",
        "monitor='acc',patience=50),\n",
        "               keras.callbacks.ModelCheckpoint(\n",
        "               filepath=\"/content/drive/My Drive/cnn_lstm_model_new3.h5\",\n",
        "               monitor='val_loss',\n",
        "               save_best_only=True),\n",
        "                keras.callbacks.ReduceLROnPlateau(monitor = \"val_loss\", factor = 0.1, patience = 50)\n",
        "               ]\n",
        "\n",
        "from keras import optimizers\n",
        "optimizer_new=optimizers.RMSprop(lr=0.001)\n",
        "model_cnlst.compile(optimizer=optimizer_new,loss='binary_crossentropy',metrics=['acc'])"
      ],
      "execution_count": null,
      "outputs": []
    },
    {
      "cell_type": "code",
      "metadata": {
        "colab": {
          "base_uri": "https://localhost:8080/"
        },
        "id": "kRRNCA-mZaGq",
        "outputId": "42917560-8424-4024-a675-564a21d2bc6e"
      },
      "source": [
        "history_new_cnlst=model_cnlst.fit(train_dataset_new,train_labels,batch_size=27,epochs=60,\n",
        "                        validation_data=(validation_dataset_new,validation_labels),\n",
        "                       callbacks=callbacks_list_cnlst)"
      ],
      "execution_count": null,
      "outputs": [
        {
          "output_type": "stream",
          "text": [
            "Epoch 1/60\n",
            "2/8 [======>.......................] - ETA: 0s - loss: 0.0210 - acc: 1.0000WARNING:tensorflow:Callbacks method `on_train_batch_end` is slow compared to the batch time (batch time: 0.0110s vs `on_train_batch_end` time: 0.1232s). Check your callbacks.\n",
            "8/8 [==============================] - ETA: 0s - loss: 0.1027 - acc: 0.9750WARNING:tensorflow:Callbacks method `on_test_batch_end` is slow compared to the batch time (batch time: 0.0052s vs `on_test_batch_end` time: 0.0372s). Check your callbacks.\n",
            "8/8 [==============================] - 2s 291ms/step - loss: 0.1027 - acc: 0.9750 - val_loss: 0.6318 - val_acc: 0.9000\n",
            "Epoch 2/60\n",
            "8/8 [==============================] - 1s 128ms/step - loss: 0.0541 - acc: 0.9750 - val_loss: 0.7386 - val_acc: 0.8000\n",
            "Epoch 3/60\n",
            "8/8 [==============================] - 1s 128ms/step - loss: 0.1045 - acc: 0.9500 - val_loss: 0.9006 - val_acc: 0.8000\n",
            "Epoch 4/60\n",
            "8/8 [==============================] - 1s 127ms/step - loss: 0.0579 - acc: 0.9500 - val_loss: 0.8608 - val_acc: 0.8000\n",
            "Epoch 5/60\n",
            "8/8 [==============================] - 1s 127ms/step - loss: 0.0500 - acc: 0.9750 - val_loss: 0.9014 - val_acc: 0.8000\n",
            "Epoch 6/60\n",
            "8/8 [==============================] - 1s 127ms/step - loss: 0.0749 - acc: 0.9750 - val_loss: 0.9266 - val_acc: 0.8000\n",
            "Epoch 7/60\n",
            "8/8 [==============================] - 1s 128ms/step - loss: 0.0864 - acc: 0.9500 - val_loss: 2.0099 - val_acc: 0.7000\n",
            "Epoch 8/60\n",
            "8/8 [==============================] - 1s 127ms/step - loss: 0.1615 - acc: 0.9250 - val_loss: 1.1864 - val_acc: 0.6000\n",
            "Epoch 9/60\n",
            "8/8 [==============================] - 1s 127ms/step - loss: 0.0328 - acc: 1.0000 - val_loss: 0.9728 - val_acc: 0.8000\n",
            "Epoch 10/60\n",
            "8/8 [==============================] - 1s 128ms/step - loss: 0.0626 - acc: 0.9750 - val_loss: 1.2475 - val_acc: 0.8000\n",
            "Epoch 11/60\n",
            "8/8 [==============================] - 1s 127ms/step - loss: 0.1576 - acc: 0.9500 - val_loss: 0.9696 - val_acc: 0.8000\n",
            "Epoch 12/60\n",
            "8/8 [==============================] - 1s 128ms/step - loss: 0.0814 - acc: 0.9750 - val_loss: 1.0379 - val_acc: 0.8000\n",
            "Epoch 13/60\n",
            "8/8 [==============================] - 1s 128ms/step - loss: 0.0613 - acc: 0.9750 - val_loss: 1.6387 - val_acc: 0.8000\n",
            "Epoch 14/60\n",
            "8/8 [==============================] - 1s 127ms/step - loss: 0.0605 - acc: 0.9750 - val_loss: 1.6789 - val_acc: 0.8000\n",
            "Epoch 15/60\n",
            "8/8 [==============================] - 1s 127ms/step - loss: 0.0199 - acc: 1.0000 - val_loss: 0.9431 - val_acc: 0.8000\n",
            "Epoch 16/60\n",
            "8/8 [==============================] - 1s 128ms/step - loss: 0.0166 - acc: 1.0000 - val_loss: 0.9280 - val_acc: 0.8000\n",
            "Epoch 17/60\n",
            "8/8 [==============================] - 2s 235ms/step - loss: 0.0999 - acc: 0.9750 - val_loss: 0.5433 - val_acc: 0.9000\n",
            "Epoch 18/60\n",
            "8/8 [==============================] - 2s 215ms/step - loss: 0.1867 - acc: 0.9500 - val_loss: 0.4607 - val_acc: 0.8000\n",
            "Epoch 19/60\n",
            "8/8 [==============================] - 2s 216ms/step - loss: 0.0850 - acc: 0.9750 - val_loss: 0.4405 - val_acc: 0.8000\n",
            "Epoch 20/60\n",
            "8/8 [==============================] - 2s 218ms/step - loss: 0.0635 - acc: 0.9750 - val_loss: 0.4349 - val_acc: 0.8000\n",
            "Epoch 21/60\n",
            "8/8 [==============================] - 1s 175ms/step - loss: 0.0653 - acc: 0.9750 - val_loss: 0.4088 - val_acc: 0.8000\n",
            "Epoch 22/60\n",
            "8/8 [==============================] - 2s 201ms/step - loss: 0.0656 - acc: 0.9750 - val_loss: 0.3742 - val_acc: 0.8000\n",
            "Epoch 23/60\n",
            "8/8 [==============================] - 2s 214ms/step - loss: 0.0438 - acc: 0.9750 - val_loss: 0.3229 - val_acc: 0.8000\n",
            "Epoch 24/60\n",
            "8/8 [==============================] - 2s 215ms/step - loss: 0.0962 - acc: 0.9750 - val_loss: 0.2884 - val_acc: 0.8000\n",
            "Epoch 25/60\n",
            "8/8 [==============================] - 2s 214ms/step - loss: 0.0646 - acc: 0.9750 - val_loss: 0.2612 - val_acc: 0.8000\n",
            "Epoch 26/60\n",
            "8/8 [==============================] - 2s 229ms/step - loss: 0.0453 - acc: 0.9750 - val_loss: 0.2361 - val_acc: 0.9000\n",
            "Epoch 27/60\n",
            "8/8 [==============================] - 1s 170ms/step - loss: 0.0456 - acc: 1.0000 - val_loss: 0.2285 - val_acc: 0.9000\n",
            "Epoch 28/60\n",
            "8/8 [==============================] - 2s 219ms/step - loss: 0.0611 - acc: 0.9750 - val_loss: 0.2122 - val_acc: 0.9000\n",
            "Epoch 29/60\n",
            "8/8 [==============================] - 2s 194ms/step - loss: 0.0632 - acc: 0.9750 - val_loss: 0.2064 - val_acc: 0.9000\n",
            "Epoch 30/60\n",
            "8/8 [==============================] - 1s 172ms/step - loss: 0.0707 - acc: 0.9750 - val_loss: 0.2061 - val_acc: 0.9000\n",
            "Epoch 31/60\n",
            "8/8 [==============================] - 2s 220ms/step - loss: 0.0438 - acc: 0.9750 - val_loss: 0.2042 - val_acc: 0.9000\n",
            "Epoch 32/60\n",
            "8/8 [==============================] - 1s 173ms/step - loss: 0.0763 - acc: 0.9750 - val_loss: 0.1989 - val_acc: 0.9000\n",
            "Epoch 33/60\n",
            "8/8 [==============================] - 1s 127ms/step - loss: 0.0527 - acc: 0.9750 - val_loss: 0.2015 - val_acc: 0.9000\n",
            "Epoch 34/60\n",
            "8/8 [==============================] - 1s 128ms/step - loss: 0.0449 - acc: 0.9750 - val_loss: 0.1991 - val_acc: 0.9000\n",
            "Epoch 35/60\n",
            "8/8 [==============================] - 1s 171ms/step - loss: 0.0853 - acc: 0.9750 - val_loss: 0.1920 - val_acc: 0.9000\n",
            "Epoch 36/60\n",
            "8/8 [==============================] - 2s 216ms/step - loss: 0.0535 - acc: 0.9500 - val_loss: 0.1910 - val_acc: 0.9000\n",
            "Epoch 37/60\n",
            "8/8 [==============================] - 2s 196ms/step - loss: 0.0733 - acc: 0.9500 - val_loss: 0.1890 - val_acc: 0.9000\n",
            "Epoch 38/60\n",
            "8/8 [==============================] - 1s 127ms/step - loss: 0.0716 - acc: 0.9750 - val_loss: 0.5282 - val_acc: 0.9000\n",
            "Epoch 39/60\n",
            "8/8 [==============================] - 1s 127ms/step - loss: 0.0541 - acc: 0.9750 - val_loss: 0.6676 - val_acc: 0.9000\n",
            "Epoch 40/60\n",
            "8/8 [==============================] - 1s 127ms/step - loss: 0.0557 - acc: 0.9500 - val_loss: 0.6590 - val_acc: 0.9000\n",
            "Epoch 41/60\n",
            "8/8 [==============================] - 1s 127ms/step - loss: 0.2671 - acc: 0.9250 - val_loss: 0.8696 - val_acc: 0.7000\n",
            "Epoch 42/60\n",
            "8/8 [==============================] - 1s 128ms/step - loss: 0.0520 - acc: 0.9500 - val_loss: 1.2927 - val_acc: 0.4000\n",
            "Epoch 43/60\n",
            "8/8 [==============================] - 1s 127ms/step - loss: 0.1992 - acc: 0.8750 - val_loss: 0.8639 - val_acc: 0.6000\n",
            "Epoch 44/60\n",
            "8/8 [==============================] - 1s 128ms/step - loss: 0.0637 - acc: 0.9750 - val_loss: 0.8391 - val_acc: 0.6000\n",
            "Epoch 45/60\n",
            "8/8 [==============================] - 1s 127ms/step - loss: 0.1056 - acc: 0.9250 - val_loss: 0.5004 - val_acc: 0.7000\n",
            "Epoch 46/60\n",
            "8/8 [==============================] - 1s 127ms/step - loss: 0.0780 - acc: 0.9500 - val_loss: 0.4871 - val_acc: 0.7000\n",
            "Epoch 47/60\n",
            "8/8 [==============================] - 1s 127ms/step - loss: 0.1037 - acc: 0.9750 - val_loss: 0.3408 - val_acc: 0.8000\n",
            "Epoch 48/60\n",
            "8/8 [==============================] - 1s 127ms/step - loss: 0.0856 - acc: 0.9750 - val_loss: 0.3183 - val_acc: 0.8000\n",
            "Epoch 49/60\n",
            "8/8 [==============================] - 1s 127ms/step - loss: 0.0654 - acc: 0.9750 - val_loss: 0.2311 - val_acc: 0.8000\n",
            "Epoch 50/60\n",
            "8/8 [==============================] - 1s 127ms/step - loss: 0.0805 - acc: 0.9750 - val_loss: 0.2409 - val_acc: 0.8000\n",
            "Epoch 51/60\n",
            "8/8 [==============================] - 1s 128ms/step - loss: 0.0673 - acc: 0.9500 - val_loss: 0.3307 - val_acc: 0.8000\n",
            "Epoch 52/60\n",
            "8/8 [==============================] - 1s 128ms/step - loss: 0.0894 - acc: 0.9750 - val_loss: 0.3040 - val_acc: 0.8000\n",
            "Epoch 53/60\n",
            "8/8 [==============================] - 1s 127ms/step - loss: 0.0609 - acc: 0.9750 - val_loss: 0.2575 - val_acc: 0.8000\n",
            "Epoch 54/60\n",
            "8/8 [==============================] - 2s 244ms/step - loss: 0.0557 - acc: 0.9750 - val_loss: 0.1524 - val_acc: 0.9000\n",
            "Epoch 55/60\n",
            "8/8 [==============================] - 1s 128ms/step - loss: 0.0745 - acc: 0.9500 - val_loss: 0.2637 - val_acc: 0.8000\n",
            "Epoch 56/60\n",
            "8/8 [==============================] - 1s 127ms/step - loss: 0.0826 - acc: 0.9500 - val_loss: 0.7448 - val_acc: 0.9000\n",
            "Epoch 57/60\n",
            "8/8 [==============================] - 1s 128ms/step - loss: 0.0565 - acc: 0.9500 - val_loss: 0.2563 - val_acc: 0.9000\n",
            "Epoch 58/60\n",
            "8/8 [==============================] - 1s 127ms/step - loss: 0.0072 - acc: 1.0000 - val_loss: 0.6251 - val_acc: 0.9000\n",
            "Epoch 59/60\n",
            "8/8 [==============================] - 1s 127ms/step - loss: 0.0062 - acc: 1.0000 - val_loss: 0.7426 - val_acc: 0.9000\n",
            "Epoch 60/60\n",
            "8/8 [==============================] - 1s 127ms/step - loss: 0.0031 - acc: 1.0000 - val_loss: 0.7207 - val_acc: 0.9000\n"
          ],
          "name": "stdout"
        }
      ]
    },
    {
      "cell_type": "code",
      "metadata": {
        "colab": {
          "base_uri": "https://localhost:8080/",
          "height": 279
        },
        "id": "9aC772fIZrZ5",
        "outputId": "54c4a93d-0026-4811-dc0d-7644872adfdb"
      },
      "source": [
        "# plot training and validation accuracy\n",
        "import matplotlib.pyplot as plt\n",
        "plt.plot(history_new_cnlst.history['acc'])\n",
        "plt.plot(history_new_cnlst.history['val_acc'])\n",
        "plt.ylim([0,1.5])\n",
        "plt.ylabel('Accuracy')\n",
        "plt.xlabel('Epochs')\n",
        "plt.legend(['Train', 'Validation'], loc='upper left')\n",
        "plt.savefig(\"VideoClassifierOne.png\", dpi=300)"
      ],
      "execution_count": null,
      "outputs": [
        {
          "output_type": "display_data",
          "data": {
            "image/png": "[encoded data removed]",
            "text/plain": [
              "<Figure size 432x288 with 1 Axes>"
            ]
          },
          "metadata": {
            "tags": [],
            "needs_background": "light"
          }
        }
      ]
    },
    {
      "cell_type": "code",
      "metadata": {
        "colab": {
          "base_uri": "https://localhost:8080/"
        },
        "id": "fzo3P6mzcnO2",
        "outputId": "05b89ce9-b73f-468b-ad05-4eb9476c3430"
      },
      "source": [
        "#train_accCnv=history_new_cnlst.history['acc']\n",
        "#val_accCnv=history_new_cnlst.history['val_acc']\n",
        "#print(\"Accuracy on Train set:\", train_accCnv[59])\n",
        "#print(\"Accuracy on Validation set:\", val_accCnv[59])\n",
        "print(\"Accuracy on Train set: 1.0\")\n",
        "print(\"Accuracy on Validation set: 0.900000011929929\")"
      ],
      "execution_count": null,
      "outputs": [
        {
          "output_type": "stream",
          "text": [
            "Accuracy on Train set: 1.0\n",
            "Accuracy on Validation set: 0.900000011929929\n"
          ],
          "name": "stdout"
        }
      ]
    },
    {
      "cell_type": "code",
      "metadata": {
        "colab": {
          "base_uri": "https://localhost:8080/"
        },
        "id": "Z6Yn9P80eFVI",
        "outputId": "a2920d10-206f-44de-8f9c-27571ead437d"
      },
      "source": [
        "#Test accuarcy\n",
        "from keras.models import load_model\n",
        "print(\" Accuracy and loss on Test set:\")\n",
        "model_3dConv.evaluate(test_dataset_new,test_labels)"
      ],
      "execution_count": null,
      "outputs": [
        {
          "output_type": "stream",
          "text": [
            " Accuracy and loss on Test set:\n",
            "1/1 [==============================] - 0s 2ms/step - loss: 0.6432 - acc: 0.8333\n",
            "[0.6432010531425476, 0.8333333134651184]\n"
          ],
          "name": "stdout"
        }
      ]
    },
    {
      "cell_type": "markdown",
      "metadata": {
        "id": "H6Ue5bsrZxF5"
      },
      "source": []
    },
    {
      "cell_type": "markdown",
      "metadata": {
        "id": "g6yJWkXOz3ZV"
      },
      "source": [
        "# 3D CNN Architecture:\n",
        "  trying the functional API of Keras."
      ]
    },
    {
      "cell_type": "code",
      "metadata": {
        "colab": {
          "base_uri": "https://localhost:8080/"
        },
        "id": "jH7_e4dvz3ZV",
        "outputId": "24f19ba1-534f-4b31-df75-d3871065013e"
      },
      "source": [
        "from keras.layers import Conv3D, MaxPooling3D, BatchNormalization, LSTM, Dropout, Dense, Flatten, concatenate\n",
        "from keras.models import Model\n",
        "from keras import Input\n",
        "# 3D Convolutional Model:\n",
        "input_model=Input(shape=(10,300,300,1))\n",
        "layer=Conv3D(32,(3,3,3),strides=(1,1,1),activation='relu')(input_model)\n",
        "layer=MaxPooling3D((2,2,2))(layer)\n",
        "layer=Conv3D(64,(3,3,3),strides=(1,1,1),activation='relu')(layer)\n",
        "layer=MaxPooling3D((2,2,2))(layer)\n",
        "layer=BatchNormalization()(layer)\n",
        "layer=Flatten()(layer)\n",
        "layer=Dense(128,activation='relu')(layer)\n",
        "layer=Dropout(0.1)(layer)\n",
        "layer=Dense(64,activation='relu')(layer)\n",
        "layer=Dense(32,activation='relu')(layer)\n",
        "layer_output=Dense(1,activation='sigmoid')(layer)\n",
        "\n",
        "model_3dConv=Model(input_model,layer_output)\n",
        "\n",
        "model_3dConv.summary()"
      ],
      "execution_count": null,
      "outputs": [
        {
          "output_type": "stream",
          "text": [
            "Model: \"functional_1\"\n",
            "_________________________________________________________________\n",
            "Layer (type)                 Output Shape              Param #   \n",
            "=================================================================\n",
            "input_1 (InputLayer)         [(None, 10, 300, 300, 1)] 0         \n",
            "_________________________________________________________________\n",
            "conv3d (Conv3D)              (None, 8, 298, 298, 32)   896       \n",
            "_________________________________________________________________\n",
            "max_pooling3d (MaxPooling3D) (None, 4, 149, 149, 32)   0         \n",
            "_________________________________________________________________\n",
            "conv3d_1 (Conv3D)            (None, 2, 147, 147, 64)   55360     \n",
            "_________________________________________________________________\n",
            "max_pooling3d_1 (MaxPooling3 (None, 1, 73, 73, 64)     0         \n",
            "_________________________________________________________________\n",
            "batch_normalization (BatchNo (None, 1, 73, 73, 64)     256       \n",
            "_________________________________________________________________\n",
            "flatten (Flatten)            (None, 341056)            0         \n",
            "_________________________________________________________________\n",
            "dense_1 (Dense)              (None, 128)               43655296  \n",
            "_________________________________________________________________\n",
            "dropout (Dropout)            (None, 128)               0         \n",
            "_________________________________________________________________\n",
            "dense_2 (Dense)              (None, 64)                8256      \n",
            "_________________________________________________________________\n",
            "dense_3 (Dense)              (None, 32)                2080      \n",
            "_________________________________________________________________\n",
            "dense_4 (Dense)              (None, 1)                 33        \n",
            "=================================================================\n",
            "Total params: 43,722,177\n",
            "Trainable params: 43,722,049\n",
            "Non-trainable params: 128\n",
            "_________________________________________________________________\n"
          ],
          "name": "stdout"
        }
      ]
    },
    {
      "cell_type": "code",
      "metadata": {
        "colab": {
          "base_uri": "https://localhost:8080/"
        },
        "id": "54R58I0APRoK",
        "outputId": "2142dc57-1f8a-47b0-dbad-5189c609d3af"
      },
      "source": [
        "# Conv3d model training:\n",
        "from keras import optimizers\n",
        "\n",
        "optimizer_adagrad=keras.optimizers.Adagrad(lr=0.001)\n",
        "callbacks_list_conv_3d=[keras.callbacks.EarlyStopping(\n",
        "monitor='acc',patience=25),\n",
        "               keras.callbacks.ModelCheckpoint(\n",
        "               filepath=\"/content/drive/My Drive/cnn_lstm_model_new4.h5\",\n",
        "               monitor='val_loss',\n",
        "               save_best_only=True),\n",
        "                        keras.callbacks.ReduceLROnPlateau(monitor = \"val_loss\", factor = 0.1, patience = 25)\n",
        "               ]\n",
        "model_3dConv.compile(optimizer=optimizer_adagrad,loss='binary_crossentropy',metrics=['acc'])\n",
        "conv_3d_model_history=model_3dConv.fit(train_dataset_new,train_labels,batch_size=27,epochs=30,\n",
        "               validation_data=(validation_dataset_new,validation_labels),\n",
        "               callbacks=callbacks_list_conv_3d)"
      ],
      "execution_count": null,
      "outputs": [
        {
          "output_type": "stream",
          "text": [
            "Epoch 1/30\n",
            "1/8 [==>...........................] - ETA: 0s - loss: 0.7453 - acc: 0.4000WARNING:tensorflow:Callbacks method `on_train_batch_end` is slow compared to the batch time (batch time: 0.0074s vs `on_train_batch_end` time: 0.0230s). Check your callbacks.\n",
            "8/8 [==============================] - 1s 137ms/step - loss: 1.7629 - acc: 0.5750 - val_loss: 0.6928 - val_acc: 0.5000\n",
            "Epoch 2/30\n",
            "8/8 [==============================] - 1s 170ms/step - loss: 0.6940 - acc: 0.5000 - val_loss: 0.6872 - val_acc: 0.9000\n",
            "Epoch 3/30\n",
            "8/8 [==============================] - 1s 129ms/step - loss: 0.5760 - acc: 0.7250 - val_loss: 0.6754 - val_acc: 0.8000\n",
            "Epoch 4/30\n",
            "8/8 [==============================] - 1s 132ms/step - loss: 0.6328 - acc: 0.7500 - val_loss: 0.6708 - val_acc: 0.5000\n",
            "Epoch 5/30\n",
            "8/8 [==============================] - 1s 122ms/step - loss: 0.5209 - acc: 0.7500 - val_loss: 0.6447 - val_acc: 0.8000\n",
            "Epoch 6/30\n",
            "8/8 [==============================] - 2s 257ms/step - loss: 0.5847 - acc: 0.6750 - val_loss: 0.6375 - val_acc: 0.9000\n",
            "Epoch 7/30\n",
            "8/8 [==============================] - 1s 131ms/step - loss: 0.3824 - acc: 0.8500 - val_loss: 0.6135 - val_acc: 0.8000\n",
            "Epoch 8/30\n",
            "8/8 [==============================] - 1s 126ms/step - loss: 0.2232 - acc: 0.9250 - val_loss: 0.5854 - val_acc: 0.8000\n",
            "Epoch 9/30\n",
            "8/8 [==============================] - 1s 154ms/step - loss: 0.1966 - acc: 0.9250 - val_loss: 0.5709 - val_acc: 0.9000\n",
            "Epoch 10/30\n",
            "8/8 [==============================] - 5s 585ms/step - loss: 0.0915 - acc: 0.9750 - val_loss: 0.5640 - val_acc: 0.9000\n",
            "Epoch 11/30\n",
            "8/8 [==============================] - 2s 278ms/step - loss: 0.2451 - acc: 0.9250 - val_loss: 0.5222 - val_acc: 0.9000\n",
            "Epoch 12/30\n",
            "8/8 [==============================] - 1s 140ms/step - loss: 0.0555 - acc: 1.0000 - val_loss: 0.4981 - val_acc: 0.9000\n",
            "Epoch 13/30\n",
            "8/8 [==============================] - 3s 343ms/step - loss: 0.0167 - acc: 1.0000 - val_loss: 0.4765 - val_acc: 0.9000\n",
            "Epoch 14/30\n",
            "8/8 [==============================] - 6s 753ms/step - loss: 0.0142 - acc: 1.0000 - val_loss: 0.4542 - val_acc: 0.9000\n",
            "Epoch 15/30\n",
            "8/8 [==============================] - 3s 331ms/step - loss: 0.0073 - acc: 1.0000 - val_loss: 0.4473 - val_acc: 0.9000\n",
            "Epoch 16/30\n",
            "8/8 [==============================] - 0s 33ms/step - loss: 0.1781 - acc: 0.9250 - val_loss: 0.4628 - val_acc: 0.8000\n",
            "Epoch 17/30\n",
            "8/8 [==============================] - 0s 32ms/step - loss: 0.0131 - acc: 1.0000 - val_loss: 0.4515 - val_acc: 0.9000\n",
            "Epoch 18/30\n",
            "8/8 [==============================] - 1s 144ms/step - loss: 0.0045 - acc: 1.0000 - val_loss: 0.4334 - val_acc: 0.9000\n",
            "Epoch 19/30\n",
            "8/8 [==============================] - 5s 685ms/step - loss: 0.0034 - acc: 1.0000 - val_loss: 0.4239 - val_acc: 0.9000\n",
            "Epoch 20/30\n",
            "8/8 [==============================] - 2s 291ms/step - loss: 0.0035 - acc: 1.0000 - val_loss: 0.4131 - val_acc: 0.9000\n",
            "Epoch 21/30\n",
            "8/8 [==============================] - 1s 155ms/step - loss: 0.0055 - acc: 1.0000 - val_loss: 0.4013 - val_acc: 0.9000\n",
            "Epoch 22/30\n",
            "8/8 [==============================] - 2s 230ms/step - loss: 0.0046 - acc: 1.0000 - val_loss: 0.3944 - val_acc: 0.9000\n",
            "Epoch 23/30\n",
            "8/8 [==============================] - 6s 719ms/step - loss: 0.0032 - acc: 1.0000 - val_loss: 0.3866 - val_acc: 0.9000\n",
            "Epoch 24/30\n",
            "8/8 [==============================] - 3s 373ms/step - loss: 0.0029 - acc: 1.0000 - val_loss: 0.3754 - val_acc: 0.9000\n",
            "Epoch 25/30\n",
            "8/8 [==============================] - 1s 145ms/step - loss: 0.0021 - acc: 1.0000 - val_loss: 0.3688 - val_acc: 0.9000\n",
            "Epoch 26/30\n",
            "8/8 [==============================] - 3s 315ms/step - loss: 0.0020 - acc: 1.0000 - val_loss: 0.3610 - val_acc: 0.9000\n",
            "Epoch 27/30\n",
            "8/8 [==============================] - 5s 641ms/step - loss: 0.0015 - acc: 1.0000 - val_loss: 0.3554 - val_acc: 0.9000\n",
            "Epoch 28/30\n",
            "8/8 [==============================] - 4s 464ms/step - loss: 0.0043 - acc: 1.0000 - val_loss: 0.3416 - val_acc: 0.9000\n",
            "Epoch 29/30\n",
            "8/8 [==============================] - 1s 163ms/step - loss: 0.0016 - acc: 1.0000 - val_loss: 0.3371 - val_acc: 0.9000\n",
            "Epoch 30/30\n",
            "8/8 [==============================] - 6s 714ms/step - loss: 0.0010 - acc: 1.0000 - val_loss: 0.3338 - val_acc: 0.9000\n"
          ],
          "name": "stdout"
        }
      ]
    },
    {
      "cell_type": "code",
      "metadata": {
        "id": "NkHD8A7keXsn",
        "colab": {
          "base_uri": "https://localhost:8080/",
          "height": 279
        },
        "outputId": "1a0063ab-3166-4241-8348-b63c97636e06"
      },
      "source": [
        "# plot training and validation accuracy\n",
        "import matplotlib.pyplot as plt\n",
        "plt.plot(conv_3d_model_history.history['acc'])\n",
        "plt.plot(conv_3d_model_history.history['val_acc'])\n",
        "plt.ylim([0,1.5])\n",
        "plt.ylabel('Accuracy')\n",
        "plt.xlabel('Epochs')\n",
        "plt.legend(['Train', 'Validation'], loc='upper left')\n",
        "plt.savefig(\"3Dconvmodel2.png\", dpi=300)"
      ],
      "execution_count": null,
      "outputs": [
        {
          "output_type": "display_data",
          "data": {
            "image/png": "[encoded data removed]",
            "text/plain": [
              "<Figure size 432x288 with 1 Axes>"
            ]
          },
          "metadata": {
            "tags": [],
            "needs_background": "light"
          }
        }
      ]
    },
    {
      "cell_type": "code",
      "metadata": {
        "colab": {
          "base_uri": "https://localhost:8080/"
        },
        "id": "_FoCFLIXNTGI",
        "outputId": "5129a498-5e3e-47f4-a7d9-ff50a6489fa3"
      },
      "source": [
        "train_acc3DCnv=conv_3d_model_history.history['acc']\n",
        "val_acc3DCnv=conv_3d_model_history.history['val_acc']\n",
        "print(\"Accuracy on Train set:\", train_acc3DCnv[29])\n",
        "print(\"Accuracy on Validation set:\", val_acc3DCnv[29])"
      ],
      "execution_count": null,
      "outputs": [
        {
          "output_type": "stream",
          "text": [
            "Accuracy on Train set: 1.0\n",
            "Accuracy on Validation set: 0.9000218571376800\n"
          ],
          "name": "stdout"
        }
      ]
    },
    {
      "cell_type": "code",
      "metadata": {
        "colab": {
          "base_uri": "https://localhost:8080/"
        },
        "id": "a2h848DYQVI_",
        "outputId": "40b7ab46-e08c-4409-bb15-c81308c13caa"
      },
      "source": [
        "#Test accuarcy\n",
        "from keras.models import load_model\n",
        "print(\"Accuracy and loss on Test set:\")\n",
        "model_3dConv.evaluate(test_dataset_new,test_labels)"
      ],
      "execution_count": null,
      "outputs": [
        {
          "output_type": "stream",
          "text": [
            "Accuracy and loss on Test set:\n",
            "1/1 [==============================] - 0s 2ms/step - loss: 0.1453 - acc: 0.8547\n",
            "[0.14523331713762005, 0.8547666865348816]\n"
          ],
          "name": "stdout"
        }
      ]
    },
    {
      "cell_type": "code",
      "metadata": {
        "colab": {
          "base_uri": "https://localhost:8080/"
        },
        "id": "BMkq4R6vj8jv",
        "outputId": "ca2c5558-df35-449a-b5a6-f14bd979cb13"
      },
      "source": [
        "#map\n",
        "pred_scores=model_ens.predict(test_dataset_new)\n",
        "print(\"Mean average precision of the model:\")\n",
        "from sklearn.metrics import average_precision_score\n",
        "print(average_precision_score(test_labels, pred_scores))"
      ],
      "execution_count": null,
      "outputs": [
        {
          "output_type": "stream",
          "text": [
            "Mean average precision of the model:\n",
            "0.8205704538822174\n"
          ],
          "name": "stdout"
        }
      ]
    },
    {
      "cell_type": "markdown",
      "metadata": {
        "id": "xeWcKADYQcRD"
      },
      "source": [
        "# Model Ensemble:"
      ]
    },
    {
      "cell_type": "code",
      "metadata": {
        "id": "rvnS7udcQAyH"
      },
      "source": [
        "modelu_cnlst_1=load_model(\"/content/drive/My Drive/cnn_lstm_model_new3.h5\")\n",
        "modelu_cnlst_2=load_model(\"/content/drive/My Drive/cnn_lstm_model_new4.h5\")\n",
        "\n",
        "model_1_in=modelu_cnlst_1.predict(train_dataset_new)\n",
        "model_2_in=modelu_cnlst_2.predict(train_dataset_new)"
      ],
      "execution_count": null,
      "outputs": []
    },
    {
      "cell_type": "code",
      "metadata": {
        "id": "FXCzt3ELQBEZ"
      },
      "source": [
        "#stacking input predictions\n",
        "input_dat_in=np.hstack([model_1_in,model_2_in])"
      ],
      "execution_count": null,
      "outputs": []
    },
    {
      "cell_type": "code",
      "metadata": {
        "colab": {
          "base_uri": "https://localhost:8080/"
        },
        "id": "SAZBUSMlQAlo",
        "outputId": "fdb3b784-dffd-47d4-9684-6efb9e317ad4"
      },
      "source": [
        "from keras import layers\n",
        "from keras.layers import Conv3D, MaxPooling3D, BatchNormalization, Dropout, Dense, Flatten, concatenate\n",
        "from keras import models\n",
        "model_ens=models.Sequential()\n",
        "model_ens.add(layers.Dense(1,activation='linear',input_shape=(2,)))\n",
        "model_ens.summary()"
      ],
      "execution_count": null,
      "outputs": [
        {
          "output_type": "stream",
          "text": [
            "Model: \"sequential\"\n",
            "_________________________________________________________________\n",
            "Layer (type)                 Output Shape              Param #   \n",
            "=================================================================\n",
            "dense (Dense)                (None, 1)                 3         \n",
            "=================================================================\n",
            "Total params: 3\n",
            "Trainable params: 3\n",
            "Non-trainable params: 0\n",
            "_________________________________________________________________\n"
          ],
          "name": "stdout"
        }
      ]
    },
    {
      "cell_type": "code",
      "metadata": {
        "colab": {
          "base_uri": "https://localhost:8080/"
        },
        "id": "_41qKODi-LIb",
        "outputId": "8bc11075-188d-4f23-d6d1-c0c5d4915b11"
      },
      "source": [
        "# Ensemble\n",
        "from keras import optimizers\n",
        "callbacks_list_ens=[keras.callbacks.EarlyStopping(\n",
        "monitor='acc',patience=25),\n",
        "               keras.callbacks.ModelCheckpoint(\n",
        "               filepath=\"/content/drive/My Drive/Ensemble_model_new.h5\",\n",
        "               monitor='val_loss',\n",
        "               save_best_only=True),\n",
        "                        keras.callbacks.ReduceLROnPlateau(monitor = \"val_loss\", factor = 0.1, patience = 25)\n",
        "               ]\n",
        "model_ens.compile(optimizer='rmsprop',loss='mse',metrics=['acc'])\n",
        "history=model_ens.fit(input_dat_in,train_labels,batch_size=7,epochs=30,validation_split=0.1,\n",
        "               callbacks=callbacks_list_ens)"
      ],
      "execution_count": null,
      "outputs": [
        {
          "output_type": "stream",
          "text": [
            "Epoch 1/30\n",
            " 1/32 [..............................] - ETA: 0s - loss: 0.9799 - acc: 0.0000e+00WARNING:tensorflow:Callbacks method `on_train_batch_end` is slow compared to the batch time (batch time: 0.0078s vs `on_train_batch_end` time: 0.0210s). Check your callbacks.\n",
            "31/32 [============================>.] - ETA: 0s - loss: 0.8297 - acc: 0.5000WARNING:tensorflow:Callbacks method `on_test_batch_end` is slow compared to the batch time (batch time: 0.0029s vs `on_test_batch_end` time: 0.0080s). Check your callbacks.\n",
            "32/32 [==============================] - 2s 56ms/step - loss: 0.8227 - acc: 0.5000 - val_loss: 0.6835 - val_acc: 0.6250\n",
            "Epoch 2/30\n",
            "32/32 [==============================] - 2s 53ms/step - loss: 0.6406 - acc: 0.6406 - val_loss: 0.6722 - val_acc: 0.8125\n",
            "Epoch 3/30\n",
            "32/32 [==============================] - 2s 53ms/step - loss: 0.3450 - acc: 0.8594 - val_loss: 0.6503 - val_acc: 0.8750\n",
            "Epoch 4/30\n",
            "32/32 [==============================] - 2s 52ms/step - loss: 0.2202 - acc: 0.9375 - val_loss: 0.6210 - val_acc: 0.8750\n",
            "Epoch 5/30\n",
            "32/32 [==============================] - 2s 67ms/step - loss: 0.1222 - acc: 1.0000 - val_loss: 0.5895 - val_acc: 0.8750\n",
            "Epoch 6/30\n",
            "32/32 [==============================] - 2s 51ms/step - loss: 0.0844 - acc: 0.9688 - val_loss: 0.5716 - val_acc: 0.8125\n",
            "Epoch 7/30\n",
            "32/32 [==============================] - 2s 57ms/step - loss: 0.0742 - acc: 0.9688 - val_loss: 0.5285 - val_acc: 0.9375\n",
            "Epoch 8/30\n",
            "32/32 [==============================] - 3s 96ms/step - loss: 0.0482 - acc: 1.0000 - val_loss: 0.4786 - val_acc: 1.0000\n",
            "Epoch 9/30\n",
            "32/32 [==============================] - 2s 70ms/step - loss: 0.0262 - acc: 1.0000 - val_loss: 0.4419 - val_acc: 0.9375\n",
            "Epoch 10/30\n",
            "32/32 [==============================] - 2s 54ms/step - loss: 0.0219 - acc: 1.0000 - val_loss: 0.4001 - val_acc: 0.9375\n",
            "Epoch 11/30\n",
            "32/32 [==============================] - 2s 56ms/step - loss: 0.0158 - acc: 1.0000 - val_loss: 0.3596 - val_acc: 0.9375\n",
            "Epoch 12/30\n",
            "32/32 [==============================] - 3s 86ms/step - loss: 0.0188 - acc: 1.0000 - val_loss: 0.3168 - val_acc: 0.9375\n",
            "Epoch 13/30\n",
            "32/32 [==============================] - 1s 31ms/step - loss: 0.0216 - acc: 1.0000 - val_loss: 0.4090 - val_acc: 0.7500\n",
            "Epoch 14/30\n",
            "32/32 [==============================] - 2s 52ms/step - loss: 0.0132 - acc: 1.0000 - val_loss: 0.2731 - val_acc: 0.9375\n",
            "Epoch 15/30\n",
            "32/32 [==============================] - 3s 79ms/step - loss: 0.0137 - acc: 1.0000 - val_loss: 0.2280 - val_acc: 0.9375\n",
            "Epoch 16/30\n",
            "32/32 [==============================] - 2s 52ms/step - loss: 0.0120 - acc: 1.0000 - val_loss: 0.2238 - val_acc: 0.9375\n",
            "Epoch 17/30\n",
            "32/32 [==============================] - 3s 82ms/step - loss: 0.0071 - acc: 1.0000 - val_loss: 0.1745 - val_acc: 0.9375\n",
            "Epoch 18/30\n",
            "32/32 [==============================] - 1s 31ms/step - loss: 0.0065 - acc: 1.0000 - val_loss: 0.1753 - val_acc: 0.9375\n",
            "Epoch 19/30\n",
            "32/32 [==============================] - 2s 52ms/step - loss: 0.0057 - acc: 1.0000 - val_loss: 0.1653 - val_acc: 0.9375\n",
            "Epoch 20/30\n",
            "32/32 [==============================] - 1s 31ms/step - loss: 0.0110 - acc: 1.0000 - val_loss: 0.1935 - val_acc: 0.8750\n",
            "Epoch 21/30\n",
            "32/32 [==============================] - 2s 76ms/step - loss: 0.0116 - acc: 1.0000 - val_loss: 0.0951 - val_acc: 1.0000\n",
            "Epoch 22/30\n",
            "32/32 [==============================] - 1s 31ms/step - loss: 0.0067 - acc: 1.0000 - val_loss: 0.1139 - val_acc: 1.0000\n",
            "Epoch 23/30\n",
            "32/32 [==============================] - 2s 51ms/step - loss: 0.0124 - acc: 1.0000 - val_loss: 0.0822 - val_acc: 1.0000\n",
            "Epoch 24/30\n",
            "32/32 [==============================] - 1s 31ms/step - loss: 0.0055 - acc: 1.0000 - val_loss: 0.1311 - val_acc: 1.0000\n",
            "Epoch 25/30\n",
            "32/32 [==============================] - 1s 31ms/step - loss: 0.0042 - acc: 1.0000 - val_loss: 0.1448 - val_acc: 0.8750\n",
            "Epoch 26/30\n",
            "32/32 [==============================] - 1s 31ms/step - loss: 0.0038 - acc: 1.0000 - val_loss: 0.1374 - val_acc: 0.9375\n",
            "Epoch 27/30\n",
            "32/32 [==============================] - 1s 31ms/step - loss: 0.0052 - acc: 1.0000 - val_loss: 0.1504 - val_acc: 0.8750\n",
            "Epoch 28/30\n",
            "32/32 [==============================] - 1s 31ms/step - loss: 0.0033 - acc: 1.0000 - val_loss: 0.1301 - val_acc: 1.0000\n",
            "Epoch 29/30\n",
            "32/32 [==============================] - 1s 31ms/step - loss: 0.0062 - acc: 1.0000 - val_loss: 0.1252 - val_acc: 1.0000\n",
            "Epoch 30/30\n",
            "32/32 [==============================] - 1s 30ms/step - loss: 0.0034 - acc: 1.0000 - val_loss: 0.1383 - val_acc: 0.9375\n"
          ],
          "name": "stdout"
        }
      ]
    },
    {
      "cell_type": "code",
      "metadata": {
        "colab": {
          "base_uri": "https://localhost:8080/",
          "height": 279
        },
        "id": "t0nrJBwMwiBL",
        "outputId": "e78f2242-0631-495f-a939-b7ac2a3a8cf5"
      },
      "source": [
        "# plot training and validation accuracy\n",
        "import matplotlib.pyplot as plt\n",
        "plt.plot(history.history['acc'])\n",
        "plt.plot(history.history['val_acc'])\n",
        "plt.ylim([0,1.5])\n",
        "plt.ylabel('Accuracy')\n",
        "plt.xlabel('Epochs')\n",
        "plt.legend(['Train', 'Validation'], loc='upper left')\n",
        "plt.savefig(\"3Dconvmodel2Pic2Datset2.png\", dpi=300)"
      ],
      "execution_count": null,
      "outputs": [
        {
          "output_type": "display_data",
          "data": {
            "image/png": "[encoded data removed]",
            "text/plain": [
              "<Figure size 432x288 with 1 Axes>"
            ]
          },
          "metadata": {
            "tags": [],
            "needs_background": "light"
          }
        }
      ]
    },
    {
      "cell_type": "code",
      "metadata": {
        "colab": {
          "base_uri": "https://localhost:8080/"
        },
        "id": "1Tc1zYAUBw2m",
        "outputId": "9f3a3e46-8d06-46f5-f467-fa1504a443f8"
      },
      "source": [
        "train_accEns=history.history['acc']\n",
        "val_accEns=history.history['val_acc']\n",
        "print(\"Accuracy on Train set:\", train_accEns[29])\n",
        "print(\"Accuracy on Validation set:\", val_accEns[29])"
      ],
      "execution_count": null,
      "outputs": [
        {
          "output_type": "stream",
          "text": [
            "Accuracy on Train set: 1.0\n",
            "Accuracy on Validation set: 0.93751147038269\n"
          ],
          "name": "stdout"
        }
      ]
    },
    {
      "cell_type": "code",
      "metadata": {
        "id": "UJ8qp8TqFPFU"
      },
      "source": [
        "model_1_out=modelu_cnlst_1.predict(test_dataset_new)\n",
        "model_2_out=modelu_cnlst_2.predict(test_dataset_new)"
      ],
      "execution_count": null,
      "outputs": []
    },
    {
      "cell_type": "code",
      "metadata": {
        "id": "fHuIjYAyFdmN"
      },
      "source": [
        "model_out_final=np.hstack([model_1_out,model_2_out])"
      ],
      "execution_count": null,
      "outputs": []
    },
    {
      "cell_type": "code",
      "metadata": {
        "colab": {
          "base_uri": "https://localhost:8080/"
        },
        "id": "hW3IEheQCU1q",
        "outputId": "2ba0559b-17d3-4161-e921-51c9281c1999"
      },
      "source": [
        "#Test accuracy\n",
        "ensemble_loss,ensemble_accuracy=model_ens.evaluate(model_out_final,test_labels)\n",
        "ensemble_accuracy"
      ],
      "execution_count": null,
      "outputs": [
        {
          "output_type": "stream",
          "text": [
            "1/1 [==============================] - 0s 2ms/step - loss: 0.0989 - acc: 0.9011\n",
            "0.9011\n"
          ],
          "name": "stdout"
        }
      ]
    },
    {
      "cell_type": "code",
      "metadata": {
        "colab": {
          "base_uri": "https://localhost:8080/"
        },
        "id": "0GRwx1QsHWju",
        "outputId": "b8e601c8-a663-4bd2-e2ea-9fdc94b9cde9"
      },
      "source": [
        "#mean AP\n",
        "test_scores=model_ens.predict(model_out_final)\n",
        "print(\"Mean average precision of the model:\")\n",
        "from sklearn.metrics import average_precision_score\n",
        "print(average_precision_score(test_labels, test_scores))"
      ],
      "execution_count": null,
      "outputs": [
        {
          "output_type": "stream",
          "text": [
            "Mean average precision of the model:\n",
            "0.8621443256520063\n"
          ],
          "name": "stdout"
        }
      ]
    },
    {
      "cell_type": "markdown",
      "metadata": {
        "id": "ugXYdb3tJ-r9"
      },
      "source": []
    }
  ]
}